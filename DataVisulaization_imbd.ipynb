{
  "nbformat": 4,
  "nbformat_minor": 0,
  "metadata": {
    "colab": {
      "name": "DataVisulaization_imbd.ipynb",
      "provenance": [],
      "collapsed_sections": []
    },
    "kernelspec": {
      "name": "python3",
      "display_name": "Python 3"
    },
    "language_info": {
      "name": "python"
    }
  },
  "cells": [
    {
      "cell_type": "code",
      "execution_count": 1,
      "metadata": {
        "id": "p6PVWxwf2IXZ",
        "colab": {
          "base_uri": "https://localhost:8080/"
        },
        "outputId": "2c758dee-bd4d-499b-d74a-6246e4c4618a"
      },
      "outputs": [
        {
          "output_type": "stream",
          "name": "stdout",
          "text": [
            "Mounted at /content/drive\n"
          ]
        }
      ],
      "source": [
        "# Spark init\n",
        "!wget -q https://dlcdn.apache.org/spark/spark-3.1.2/spark-3.1.2-bin-hadoop2.7.tgz \n",
        "!tar xf spark-3.1.2-bin-hadoop2.7.tgz\n",
        "import os\n",
        "os.environ[\"JAVA_HOME\"] = \"/usr/lib/jvm/default-java\"\n",
        "os.environ[\"SPARK_HOME\"] = \"/content/spark-3.1.2-bin-hadoop2.7\"\n",
        "!pip install -q findspark\n",
        "import findspark\n",
        "findspark.init()\n",
        "from google.colab import drive\n",
        "drive.mount('/content/drive')\n",
        "from pyspark.sql import SparkSession\n",
        "spark = SparkSession.builder\\\n",
        "        .master(\"local\")\\\n",
        "        .appName(\"Colab\")\\\n",
        "        .config('spark.ui.port', '4050')\\\n",
        "        .config('spark.sql.execution.arrow.pyspark.enabled', True) \\\n",
        "        .config('spark.sql.session.timeZone', 'UTC') \\\n",
        "        .config('spark.driver.memory','1T') \\\n",
        "        .config('spark.ui.showConsoleProgress', True) \\\n",
        "        .config('spark.sql.repl.eagerEval.enabled', True) \\\n",
        "        .appName(\"pyspark-geopandas\")\\\n",
        "        .getOrCreate()\n"
      ]
    },
    {
      "cell_type": "code",
      "source": [
        "import pandas as pd\n",
        "!pip install geopandas\n",
        "from geopandas import GeoDataFrame # Loading boundaries Data\n",
        "from shapely.geometry import Point, Polygon, shape # creating geospatial data\n",
        "from shapely import wkb, wkt # creating and parsing geospatial data\n",
        "from ast import literal_eval as make_tuple # used to decode data from java\n",
        "\n"
      ],
      "metadata": {
        "colab": {
          "base_uri": "https://localhost:8080/"
        },
        "id": "TK-HUxTRlOSc",
        "outputId": "5c8bfb47-7927-4446-9338-3b733b82aa41"
      },
      "execution_count": 2,
      "outputs": [
        {
          "output_type": "stream",
          "name": "stdout",
          "text": [
            "Collecting geopandas\n",
            "  Downloading geopandas-0.10.2-py2.py3-none-any.whl (1.0 MB)\n",
            "\u001b[?25l\r\u001b[K     |▎                               | 10 kB 17.7 MB/s eta 0:00:01\r\u001b[K     |▋                               | 20 kB 24.3 MB/s eta 0:00:01\r\u001b[K     |█                               | 30 kB 14.3 MB/s eta 0:00:01\r\u001b[K     |█▎                              | 40 kB 10.3 MB/s eta 0:00:01\r\u001b[K     |█▋                              | 51 kB 5.6 MB/s eta 0:00:01\r\u001b[K     |██                              | 61 kB 6.6 MB/s eta 0:00:01\r\u001b[K     |██▎                             | 71 kB 7.2 MB/s eta 0:00:01\r\u001b[K     |██▌                             | 81 kB 5.7 MB/s eta 0:00:01\r\u001b[K     |██▉                             | 92 kB 6.3 MB/s eta 0:00:01\r\u001b[K     |███▏                            | 102 kB 6.9 MB/s eta 0:00:01\r\u001b[K     |███▌                            | 112 kB 6.9 MB/s eta 0:00:01\r\u001b[K     |███▉                            | 122 kB 6.9 MB/s eta 0:00:01\r\u001b[K     |████▏                           | 133 kB 6.9 MB/s eta 0:00:01\r\u001b[K     |████▌                           | 143 kB 6.9 MB/s eta 0:00:01\r\u001b[K     |████▊                           | 153 kB 6.9 MB/s eta 0:00:01\r\u001b[K     |█████                           | 163 kB 6.9 MB/s eta 0:00:01\r\u001b[K     |█████▍                          | 174 kB 6.9 MB/s eta 0:00:01\r\u001b[K     |█████▊                          | 184 kB 6.9 MB/s eta 0:00:01\r\u001b[K     |██████                          | 194 kB 6.9 MB/s eta 0:00:01\r\u001b[K     |██████▍                         | 204 kB 6.9 MB/s eta 0:00:01\r\u001b[K     |██████▊                         | 215 kB 6.9 MB/s eta 0:00:01\r\u001b[K     |███████                         | 225 kB 6.9 MB/s eta 0:00:01\r\u001b[K     |███████▎                        | 235 kB 6.9 MB/s eta 0:00:01\r\u001b[K     |███████▋                        | 245 kB 6.9 MB/s eta 0:00:01\r\u001b[K     |████████                        | 256 kB 6.9 MB/s eta 0:00:01\r\u001b[K     |████████▎                       | 266 kB 6.9 MB/s eta 0:00:01\r\u001b[K     |████████▋                       | 276 kB 6.9 MB/s eta 0:00:01\r\u001b[K     |█████████                       | 286 kB 6.9 MB/s eta 0:00:01\r\u001b[K     |█████████▏                      | 296 kB 6.9 MB/s eta 0:00:01\r\u001b[K     |█████████▌                      | 307 kB 6.9 MB/s eta 0:00:01\r\u001b[K     |█████████▉                      | 317 kB 6.9 MB/s eta 0:00:01\r\u001b[K     |██████████▏                     | 327 kB 6.9 MB/s eta 0:00:01\r\u001b[K     |██████████▌                     | 337 kB 6.9 MB/s eta 0:00:01\r\u001b[K     |██████████▉                     | 348 kB 6.9 MB/s eta 0:00:01\r\u001b[K     |███████████▏                    | 358 kB 6.9 MB/s eta 0:00:01\r\u001b[K     |███████████▍                    | 368 kB 6.9 MB/s eta 0:00:01\r\u001b[K     |███████████▊                    | 378 kB 6.9 MB/s eta 0:00:01\r\u001b[K     |████████████                    | 389 kB 6.9 MB/s eta 0:00:01\r\u001b[K     |████████████▍                   | 399 kB 6.9 MB/s eta 0:00:01\r\u001b[K     |████████████▊                   | 409 kB 6.9 MB/s eta 0:00:01\r\u001b[K     |█████████████                   | 419 kB 6.9 MB/s eta 0:00:01\r\u001b[K     |█████████████▍                  | 430 kB 6.9 MB/s eta 0:00:01\r\u001b[K     |█████████████▋                  | 440 kB 6.9 MB/s eta 0:00:01\r\u001b[K     |██████████████                  | 450 kB 6.9 MB/s eta 0:00:01\r\u001b[K     |██████████████▎                 | 460 kB 6.9 MB/s eta 0:00:01\r\u001b[K     |██████████████▋                 | 471 kB 6.9 MB/s eta 0:00:01\r\u001b[K     |███████████████                 | 481 kB 6.9 MB/s eta 0:00:01\r\u001b[K     |███████████████▎                | 491 kB 6.9 MB/s eta 0:00:01\r\u001b[K     |███████████████▋                | 501 kB 6.9 MB/s eta 0:00:01\r\u001b[K     |███████████████▉                | 512 kB 6.9 MB/s eta 0:00:01\r\u001b[K     |████████████████▏               | 522 kB 6.9 MB/s eta 0:00:01\r\u001b[K     |████████████████▌               | 532 kB 6.9 MB/s eta 0:00:01\r\u001b[K     |████████████████▉               | 542 kB 6.9 MB/s eta 0:00:01\r\u001b[K     |█████████████████▏              | 552 kB 6.9 MB/s eta 0:00:01\r\u001b[K     |█████████████████▌              | 563 kB 6.9 MB/s eta 0:00:01\r\u001b[K     |█████████████████▉              | 573 kB 6.9 MB/s eta 0:00:01\r\u001b[K     |██████████████████              | 583 kB 6.9 MB/s eta 0:00:01\r\u001b[K     |██████████████████▍             | 593 kB 6.9 MB/s eta 0:00:01\r\u001b[K     |██████████████████▊             | 604 kB 6.9 MB/s eta 0:00:01\r\u001b[K     |███████████████████             | 614 kB 6.9 MB/s eta 0:00:01\r\u001b[K     |███████████████████▍            | 624 kB 6.9 MB/s eta 0:00:01\r\u001b[K     |███████████████████▊            | 634 kB 6.9 MB/s eta 0:00:01\r\u001b[K     |████████████████████            | 645 kB 6.9 MB/s eta 0:00:01\r\u001b[K     |████████████████████▎           | 655 kB 6.9 MB/s eta 0:00:01\r\u001b[K     |████████████████████▋           | 665 kB 6.9 MB/s eta 0:00:01\r\u001b[K     |█████████████████████           | 675 kB 6.9 MB/s eta 0:00:01\r\u001b[K     |█████████████████████▎          | 686 kB 6.9 MB/s eta 0:00:01\r\u001b[K     |█████████████████████▋          | 696 kB 6.9 MB/s eta 0:00:01\r\u001b[K     |██████████████████████          | 706 kB 6.9 MB/s eta 0:00:01\r\u001b[K     |██████████████████████▎         | 716 kB 6.9 MB/s eta 0:00:01\r\u001b[K     |██████████████████████▋         | 727 kB 6.9 MB/s eta 0:00:01\r\u001b[K     |██████████████████████▉         | 737 kB 6.9 MB/s eta 0:00:01\r\u001b[K     |███████████████████████▏        | 747 kB 6.9 MB/s eta 0:00:01\r\u001b[K     |███████████████████████▌        | 757 kB 6.9 MB/s eta 0:00:01\r\u001b[K     |███████████████████████▉        | 768 kB 6.9 MB/s eta 0:00:01\r\u001b[K     |████████████████████████▏       | 778 kB 6.9 MB/s eta 0:00:01\r\u001b[K     |████████████████████████▌       | 788 kB 6.9 MB/s eta 0:00:01\r\u001b[K     |████████████████████████▉       | 798 kB 6.9 MB/s eta 0:00:01\r\u001b[K     |█████████████████████████       | 808 kB 6.9 MB/s eta 0:00:01\r\u001b[K     |█████████████████████████▍      | 819 kB 6.9 MB/s eta 0:00:01\r\u001b[K     |█████████████████████████▊      | 829 kB 6.9 MB/s eta 0:00:01\r\u001b[K     |██████████████████████████      | 839 kB 6.9 MB/s eta 0:00:01\r\u001b[K     |██████████████████████████▍     | 849 kB 6.9 MB/s eta 0:00:01\r\u001b[K     |██████████████████████████▊     | 860 kB 6.9 MB/s eta 0:00:01\r\u001b[K     |███████████████████████████     | 870 kB 6.9 MB/s eta 0:00:01\r\u001b[K     |███████████████████████████▎    | 880 kB 6.9 MB/s eta 0:00:01\r\u001b[K     |███████████████████████████▋    | 890 kB 6.9 MB/s eta 0:00:01\r\u001b[K     |████████████████████████████    | 901 kB 6.9 MB/s eta 0:00:01\r\u001b[K     |████████████████████████████▎   | 911 kB 6.9 MB/s eta 0:00:01\r\u001b[K     |████████████████████████████▋   | 921 kB 6.9 MB/s eta 0:00:01\r\u001b[K     |█████████████████████████████   | 931 kB 6.9 MB/s eta 0:00:01\r\u001b[K     |█████████████████████████████▎  | 942 kB 6.9 MB/s eta 0:00:01\r\u001b[K     |█████████████████████████████▌  | 952 kB 6.9 MB/s eta 0:00:01\r\u001b[K     |█████████████████████████████▉  | 962 kB 6.9 MB/s eta 0:00:01\r\u001b[K     |██████████████████████████████▏ | 972 kB 6.9 MB/s eta 0:00:01\r\u001b[K     |██████████████████████████████▌ | 983 kB 6.9 MB/s eta 0:00:01\r\u001b[K     |██████████████████████████████▉ | 993 kB 6.9 MB/s eta 0:00:01\r\u001b[K     |███████████████████████████████▏| 1.0 MB 6.9 MB/s eta 0:00:01\r\u001b[K     |███████████████████████████████▌| 1.0 MB 6.9 MB/s eta 0:00:01\r\u001b[K     |███████████████████████████████▊| 1.0 MB 6.9 MB/s eta 0:00:01\r\u001b[K     |████████████████████████████████| 1.0 MB 6.9 MB/s \n",
            "\u001b[?25hRequirement already satisfied: shapely>=1.6 in /usr/local/lib/python3.7/dist-packages (from geopandas) (1.8.1.post1)\n",
            "Requirement already satisfied: pandas>=0.25.0 in /usr/local/lib/python3.7/dist-packages (from geopandas) (1.3.5)\n",
            "Collecting fiona>=1.8\n",
            "  Downloading Fiona-1.8.21-cp37-cp37m-manylinux2014_x86_64.whl (16.7 MB)\n",
            "\u001b[K     |████████████████████████████████| 16.7 MB 303 kB/s \n",
            "\u001b[?25hCollecting pyproj>=2.2.0\n",
            "  Downloading pyproj-3.2.1-cp37-cp37m-manylinux2010_x86_64.whl (6.3 MB)\n",
            "\u001b[K     |████████████████████████████████| 6.3 MB 37.5 MB/s \n",
            "\u001b[?25hCollecting click-plugins>=1.0\n",
            "  Downloading click_plugins-1.1.1-py2.py3-none-any.whl (7.5 kB)\n",
            "Requirement already satisfied: click>=4.0 in /usr/local/lib/python3.7/dist-packages (from fiona>=1.8->geopandas) (7.1.2)\n",
            "Collecting cligj>=0.5\n",
            "  Downloading cligj-0.7.2-py3-none-any.whl (7.1 kB)\n",
            "Requirement already satisfied: six>=1.7 in /usr/local/lib/python3.7/dist-packages (from fiona>=1.8->geopandas) (1.15.0)\n",
            "Requirement already satisfied: certifi in /usr/local/lib/python3.7/dist-packages (from fiona>=1.8->geopandas) (2021.10.8)\n",
            "Requirement already satisfied: attrs>=17 in /usr/local/lib/python3.7/dist-packages (from fiona>=1.8->geopandas) (21.4.0)\n",
            "Collecting munch\n",
            "  Downloading munch-2.5.0-py2.py3-none-any.whl (10 kB)\n",
            "Requirement already satisfied: setuptools in /usr/local/lib/python3.7/dist-packages (from fiona>=1.8->geopandas) (57.4.0)\n",
            "Requirement already satisfied: python-dateutil>=2.7.3 in /usr/local/lib/python3.7/dist-packages (from pandas>=0.25.0->geopandas) (2.8.2)\n",
            "Requirement already satisfied: pytz>=2017.3 in /usr/local/lib/python3.7/dist-packages (from pandas>=0.25.0->geopandas) (2018.9)\n",
            "Requirement already satisfied: numpy>=1.17.3 in /usr/local/lib/python3.7/dist-packages (from pandas>=0.25.0->geopandas) (1.21.5)\n",
            "Installing collected packages: munch, cligj, click-plugins, pyproj, fiona, geopandas\n",
            "Successfully installed click-plugins-1.1.1 cligj-0.7.2 fiona-1.8.21 geopandas-0.10.2 munch-2.5.0 pyproj-3.2.1\n"
          ]
        }
      ]
    },
    {
      "cell_type": "code",
      "source": [
        "!unzip /content/drive/MyDrive/data/data.zip -d /content/drive/MyDrive/data/imbd\n",
        "!pip install --upgrade --no-cache-dir gdown\n"
      ],
      "metadata": {
        "colab": {
          "base_uri": "https://localhost:8080/"
        },
        "id": "qUMATC3284lM",
        "outputId": "bcabe7ab-359c-417a-a20a-e0e6b3fb2e4f"
      },
      "execution_count": null,
      "outputs": [
        {
          "output_type": "stream",
          "name": "stdout",
          "text": [
            "Archive:  /content/drive/MyDrive/data/data.zip\n",
            "  inflating: /content/drive/MyDrive/data/imbd/name.basics.tsv.gz  \n",
            "  inflating: /content/drive/MyDrive/data/imbd/name.basics.tsv/name.basics.tsv  \n",
            "  inflating: /content/drive/MyDrive/data/imbd/title.akas.tsv.gz  \n",
            "  inflating: /content/drive/MyDrive/data/imbd/title.akas.tsv/title.akas.tsv  \n",
            "  inflating: /content/drive/MyDrive/data/imbd/title.basics.tsv.gz  \n",
            "  inflating: /content/drive/MyDrive/data/imbd/title.basics.tsv/title.basics.tsv  \n",
            "  inflating: /content/drive/MyDrive/data/imbd/title.principals.tsv.gz  \n",
            "  inflating: /content/drive/MyDrive/data/imbd/title.principals.tsv/title.principals.tsv  \n",
            "  inflating: /content/drive/MyDrive/data/imbd/title.ratings.tsv.gz  \n",
            "  inflating: /content/drive/MyDrive/data/imbd/title.ratings.tsv/title.ratings.tsv  \n",
            "Requirement already satisfied: gdown in /usr/local/lib/python3.7/dist-packages (4.4.0)\n",
            "Requirement already satisfied: six in /usr/local/lib/python3.7/dist-packages (from gdown) (1.15.0)\n",
            "Requirement already satisfied: tqdm in /usr/local/lib/python3.7/dist-packages (from gdown) (4.63.0)\n",
            "Requirement already satisfied: beautifulsoup4 in /usr/local/lib/python3.7/dist-packages (from gdown) (4.6.3)\n",
            "Requirement already satisfied: requests[socks] in /usr/local/lib/python3.7/dist-packages (from gdown) (2.23.0)\n",
            "Requirement already satisfied: filelock in /usr/local/lib/python3.7/dist-packages (from gdown) (3.6.0)\n",
            "Requirement already satisfied: chardet<4,>=3.0.2 in /usr/local/lib/python3.7/dist-packages (from requests[socks]->gdown) (3.0.4)\n",
            "Requirement already satisfied: idna<3,>=2.5 in /usr/local/lib/python3.7/dist-packages (from requests[socks]->gdown) (2.10)\n",
            "Requirement already satisfied: urllib3!=1.25.0,!=1.25.1,<1.26,>=1.21.1 in /usr/local/lib/python3.7/dist-packages (from requests[socks]->gdown) (1.24.3)\n",
            "Requirement already satisfied: certifi>=2017.4.17 in /usr/local/lib/python3.7/dist-packages (from requests[socks]->gdown) (2021.10.8)\n",
            "Requirement already satisfied: PySocks!=1.5.7,>=1.5.6 in /usr/local/lib/python3.7/dist-packages (from requests[socks]->gdown) (1.7.1)\n"
          ]
        }
      ]
    },
    {
      "cell_type": "code",
      "source": [
        "!gdown --id 1908GDMdrhDN7sTaI_FelSHxbwcNM1EzR -O /content/drive/MyDrive/data/name.basics.tsv.gz\n",
        "!gunzip /content/drive/MyDrive/data/name.basics.tsv.gz\n",
        "!gdown --id 1908GDMdrhDN7sTaI_FelSHxbwcNM1EzR -O /content/drive/MyDrive/data/title.akas.tsv.gz\n",
        "!gunzip /content/drive/MyDrive/data/title.akas.tsv.gz\n",
        "!gdown --id 1908GDMdrhDN7sTaI_FelSHxbwcNM1EzR -O /content/drive/MyDrive/data/title.basics.tsv.gz\n",
        "!gunzip /content/drive/MyDrive/data/title.basics.tsv.gz\n",
        "!gdown --id 1908GDMdrhDN7sTaI_FelSHxbwcNM1EzR -O /content/drive/MyDrive/data/title.principals.tsv.gz\n",
        "!gunzip /content/drive/MyDrive/data/title.principals.tsv.gz\n",
        "!gdown --id 1908GDMdrhDN7sTaI_FelSHxbwcNM1EzR -O /content/drive/MyDrive/data/title.ratings.tsv.gz\n",
        "!gunzip /content/drive/MyDrive/data/title.ratings.tsv.gz\n"
      ],
      "metadata": {
        "colab": {
          "base_uri": "https://localhost:8080/"
        },
        "id": "44lsYXXhHSox",
        "outputId": "78e26d2f-0890-4413-dc29-7912b09c6827"
      },
      "execution_count": null,
      "outputs": [
        {
          "output_type": "stream",
          "name": "stdout",
          "text": [
            "/usr/local/lib/python3.7/dist-packages/gdown/cli.py:131: FutureWarning: Option `--id` was deprecated in version 4.3.1 and will be removed in 5.0. You don't need to pass it anymore to use a file ID.\n",
            "  category=FutureWarning,\n",
            "Access denied with the following error:\n",
            "\n",
            " \tCannot retrieve the public link of the file. You may need to change\n",
            "\tthe permission to 'Anyone with the link', or have had many accesses. \n",
            "\n",
            "You may still be able to access the file from the browser:\n",
            "\n",
            "\t https://drive.google.com/uc?id=1908GDMdrhDN7sTaI_FelSHxbwcNM1EzR \n",
            "\n",
            "gzip: /content/drive/MyDrive/data/name.basics.tsv.gz: No such file or directory\n",
            "/usr/local/lib/python3.7/dist-packages/gdown/cli.py:131: FutureWarning: Option `--id` was deprecated in version 4.3.1 and will be removed in 5.0. You don't need to pass it anymore to use a file ID.\n",
            "  category=FutureWarning,\n",
            "Downloading...\n",
            "From: https://drive.google.com/uc?id=1908GDMdrhDN7sTaI_FelSHxbwcNM1EzR\n",
            "To: /content/drive/MyDrive/data/title.akas.tsv.gz\n",
            "100% 172M/172M [00:01<00:00, 108MB/s] \n",
            "gzip: /content/drive/MyDrive/data/title.akas.tsv already exists; do you wish to overwrite (y or n)? y\n",
            "/usr/local/lib/python3.7/dist-packages/gdown/cli.py:131: FutureWarning: Option `--id` was deprecated in version 4.3.1 and will be removed in 5.0. You don't need to pass it anymore to use a file ID.\n",
            "  category=FutureWarning,\n",
            "Downloading...\n",
            "From: https://drive.google.com/uc?id=1908GDMdrhDN7sTaI_FelSHxbwcNM1EzR\n",
            "To: /content/drive/MyDrive/data/title.basics.tsv.gz\n",
            "100% 172M/172M [00:01<00:00, 169MB/s]\n",
            "/usr/local/lib/python3.7/dist-packages/gdown/cli.py:131: FutureWarning: Option `--id` was deprecated in version 4.3.1 and will be removed in 5.0. You don't need to pass it anymore to use a file ID.\n",
            "  category=FutureWarning,\n",
            "Downloading...\n",
            "From: https://drive.google.com/uc?id=1908GDMdrhDN7sTaI_FelSHxbwcNM1EzR\n",
            "To: /content/drive/MyDrive/data/title.principals.tsv.gz\n",
            "100% 172M/172M [00:00<00:00, 173MB/s]\n",
            "gzip: /content/drive/MyDrive/data/title.principals.tsv already exists; do you wish to overwrite (y or n)? y\n",
            "/usr/local/lib/python3.7/dist-packages/gdown/cli.py:131: FutureWarning: Option `--id` was deprecated in version 4.3.1 and will be removed in 5.0. You don't need to pass it anymore to use a file ID.\n",
            "  category=FutureWarning,\n",
            "Access denied with the following error:\n",
            "\n",
            " \tCannot retrieve the public link of the file. You may need to change\n",
            "\tthe permission to 'Anyone with the link', or have had many accesses. \n",
            "\n",
            "You may still be able to access the file from the browser:\n",
            "\n",
            "\t https://drive.google.com/uc?id=1908GDMdrhDN7sTaI_FelSHxbwcNM1EzR \n",
            "\n",
            "gzip: /content/drive/MyDrive/data/title.ratings.tsv.gz: No such file or directory\n"
          ]
        }
      ]
    },
    {
      "cell_type": "code",
      "source": [
        "df_names = spark.read.option(\"header\",\"true\")\\\n",
        "                     .option(\"sep\", \"\\t\")\\\n",
        "                     .option(\"multiLine\", \"true\")\\\n",
        "                     .option(\"quote\",\"\\\"\")\\\n",
        "                    .option(\"escape\",\"\\\"\")\\\n",
        "                    .option(\"ignoreTrailingWhiteSpace\", True)\\\n",
        "                    .csv(\"/content/drive/MyDrive/data/name.basics.tsv\")\n"
      ],
      "metadata": {
        "id": "El90ImqtQIBu"
      },
      "execution_count": 3,
      "outputs": []
    },
    {
      "cell_type": "code",
      "source": [
        "df_basics = spark.read.option(\"header\",\"true\")\\\n",
        "                     .option(\"sep\", \"\\t\")\\\n",
        "                     .option(\"multiLine\", \"true\")\\\n",
        "                     .option(\"quote\",\"\\\"\")\\\n",
        "                    .option(\"escape\",\"\\\"\")\\\n",
        "                    .option(\"ignoreTrailingWhiteSpace\", True)\\\n",
        "                    .csv(\"/content/drive/MyDrive/data/title.basics.tsv\")\n"
      ],
      "metadata": {
        "id": "DFDr0OmOQoRp"
      },
      "execution_count": 4,
      "outputs": []
    },
    {
      "cell_type": "code",
      "source": [
        "df_ratings = spark.read.option(\"header\",\"true\")\\\n",
        "                     .option(\"sep\", \"\\t\")\\\n",
        "                     .option(\"multiLine\", \"true\")\\\n",
        "                     .option(\"quote\",\"\\\"\")\\\n",
        "                    .option(\"escape\",\"\\\"\")\\\n",
        "                    .option(\"ignoreTrailingWhiteSpace\", True)\\\n",
        "                    .csv(\"/content/drive/MyDrive/data/title.ratings.tsv\")\n"
      ],
      "metadata": {
        "id": "AN042MzdQvIp"
      },
      "execution_count": 5,
      "outputs": []
    },
    {
      "cell_type": "code",
      "source": [
        "df_akas = spark.read.option(\"header\",\"true\")\\\n",
        "                     .option(\"sep\", \"\\t\")\\\n",
        "                     .option(\"multiLine\", \"true\")\\\n",
        "                     .option(\"quote\",\"\\\"\")\\\n",
        "                    .option(\"escape\",\"\\\"\")\\\n",
        "                    .option(\"ignoreTrailingWhiteSpace\", True)\\\n",
        "                    .csv(\"/content/drive/MyDrive/data/title.akas.tsv\")\n"
      ],
      "metadata": {
        "id": "DzvsGDhuQ1AK"
      },
      "execution_count": 6,
      "outputs": []
    },
    {
      "cell_type": "code",
      "source": [
        "df_principals = spark.read.option(\"header\",\"true\")\\\n",
        "                     .option(\"sep\", \"\\t\")\\\n",
        "                     .option(\"multiLine\", \"true\")\\\n",
        "                     .option(\"quote\",\"\\\"\")\\\n",
        "                    .option(\"escape\",\"\\\"\")\\\n",
        "                    .option(\"ignoreTrailingWhiteSpace\", True)\\\n",
        "                    .csv(\"/content/drive/MyDrive/data/title.principals.tsv\")\n"
      ],
      "metadata": {
        "id": "i7M0gzD7Q63l"
      },
      "execution_count": 7,
      "outputs": []
    },
    {
      "cell_type": "code",
      "source": [
        "df_names.show(10)"
      ],
      "metadata": {
        "colab": {
          "base_uri": "https://localhost:8080/"
        },
        "id": "wUMDlqLkIfnE",
        "outputId": "110471ed-cfa6-40f8-a3b8-568ebcc5a9c5"
      },
      "execution_count": 8,
      "outputs": [
        {
          "output_type": "stream",
          "name": "stdout",
          "text": [
            "+---------+---------------+---------+---------+--------------------+--------------------+\n",
            "|   nconst|    primaryName|birthYear|deathYear|   primaryProfession|      knownForTitles|\n",
            "+---------+---------------+---------+---------+--------------------+--------------------+\n",
            "|nm0000001|   Fred Astaire|     1899|     1987|soundtrack,actor,...|tt0050419,tt00531...|\n",
            "|nm0000002|  Lauren Bacall|     1924|     2014|  actress,soundtrack|tt0071877,tt01170...|\n",
            "|nm0000003|Brigitte Bardot|     1934|       \\N|actress,soundtrac...|tt0054452,tt00491...|\n",
            "|nm0000004|   John Belushi|     1949|     1982|actor,writer,soun...|tt0077975,tt00725...|\n",
            "|nm0000005| Ingmar Bergman|     1918|     2007|writer,director,a...|tt0069467,tt00509...|\n",
            "|nm0000006| Ingrid Bergman|     1915|     1982|actress,soundtrac...|tt0038109,tt00368...|\n",
            "|nm0000007|Humphrey Bogart|     1899|     1957|actor,soundtrack,...|tt0043265,tt00338...|\n",
            "|nm0000008|  Marlon Brando|     1924|     2004|actor,soundtrack,...|tt0070849,tt00787...|\n",
            "|nm0000009| Richard Burton|     1925|     1984|actor,producer,so...|tt0057877,tt00878...|\n",
            "|nm0000010|   James Cagney|     1899|     1986|actor,soundtrack,...|tt0035575,tt00318...|\n",
            "+---------+---------------+---------+---------+--------------------+--------------------+\n",
            "only showing top 10 rows\n",
            "\n"
          ]
        }
      ]
    },
    {
      "cell_type": "code",
      "source": [
        "df_ratings.show(10)"
      ],
      "metadata": {
        "colab": {
          "base_uri": "https://localhost:8080/"
        },
        "id": "jkBoF-o9UfmR",
        "outputId": "fa49484b-9995-457a-9eb0-64f0e40331ab"
      },
      "execution_count": 9,
      "outputs": [
        {
          "output_type": "stream",
          "name": "stdout",
          "text": [
            "+---------+-------------+--------+\n",
            "|   tconst|averageRating|numVotes|\n",
            "+---------+-------------+--------+\n",
            "|tt0000001|          5.6|    1550|\n",
            "|tt0000002|          6.1|     186|\n",
            "|tt0000003|          6.5|    1207|\n",
            "|tt0000004|          6.2|     113|\n",
            "|tt0000005|          6.1|    1934|\n",
            "|tt0000006|          5.2|     102|\n",
            "|tt0000007|          5.5|     615|\n",
            "|tt0000008|          5.4|    1667|\n",
            "|tt0000009|          5.4|      81|\n",
            "|tt0000010|          6.9|    5545|\n",
            "+---------+-------------+--------+\n",
            "only showing top 10 rows\n",
            "\n"
          ]
        }
      ]
    },
    {
      "cell_type": "code",
      "source": [
        "df_akas.show(10)"
      ],
      "metadata": {
        "colab": {
          "base_uri": "https://localhost:8080/"
        },
        "id": "zI3gIqUfUkPj",
        "outputId": "2106ab97-df49-4ec8-e125-b00f18ae561f"
      },
      "execution_count": 10,
      "outputs": [
        {
          "output_type": "stream",
          "name": "stdout",
          "text": [
            "+---------+--------+--------------------+------+--------+-----------+----------+---------------+\n",
            "|  titleId|ordering|               title|region|language|      types|attributes|isOriginalTitle|\n",
            "+---------+--------+--------------------+------+--------+-----------+----------+---------------+\n",
            "|tt0000001|       1|Carmencita - span...|    HU|      \\N|imdbDisplay|        \\N|              0|\n",
            "|tt0000001|       2|          Καρμενσίτα|    GR|      \\N|         \\N|        \\N|              0|\n",
            "|tt0000001|       3|          Карменсита|    RU|      \\N|         \\N|        \\N|              0|\n",
            "|tt0000001|       4|          Carmencita|    US|      \\N|         \\N|        \\N|              0|\n",
            "|tt0000001|       5|          Carmencita|    \\N|      \\N|   original|        \\N|              1|\n",
            "|tt0000002|       1|Le clown et ses c...|    \\N|      \\N|   original|        \\N|              1|\n",
            "|tt0000002|       2|   A bohóc és kutyái|    HU|      \\N|imdbDisplay|        \\N|              0|\n",
            "|tt0000002|       3|Le clown et ses c...|    FR|      \\N|         \\N|        \\N|              0|\n",
            "|tt0000002|       4|Clovnul si cainii...|    RO|      \\N|imdbDisplay|        \\N|              0|\n",
            "|tt0000002|       5|  Клоун и его собаки|    RU|      \\N|         \\N|        \\N|              0|\n",
            "+---------+--------+--------------------+------+--------+-----------+----------+---------------+\n",
            "only showing top 10 rows\n",
            "\n"
          ]
        }
      ]
    },
    {
      "cell_type": "code",
      "source": [
        "df_basics.show(10)"
      ],
      "metadata": {
        "colab": {
          "base_uri": "https://localhost:8080/"
        },
        "id": "5imyTmjvU_GG",
        "outputId": "09261827-18fb-424a-ba6f-588649616c97"
      },
      "execution_count": 11,
      "outputs": [
        {
          "output_type": "stream",
          "name": "stdout",
          "text": [
            "+---------+---------+--------------------+--------------------+-------+---------+-------+--------------+--------------------+\n",
            "|   tconst|titleType|        primaryTitle|       originalTitle|isAdult|startYear|endYear|runtimeMinutes|              genres|\n",
            "+---------+---------+--------------------+--------------------+-------+---------+-------+--------------+--------------------+\n",
            "|tt0000001|    short|          Carmencita|          Carmencita|      0|     1894|     \\N|             1|   Documentary,Short|\n",
            "|tt0000002|    short|Le clown et ses c...|Le clown et ses c...|      0|     1892|     \\N|             5|     Animation,Short|\n",
            "|tt0000003|    short|      Pauvre Pierrot|      Pauvre Pierrot|      0|     1892|     \\N|             4|Animation,Comedy,...|\n",
            "|tt0000004|    short|         Un bon bock|         Un bon bock|      0|     1892|     \\N|            \\N|     Animation,Short|\n",
            "|tt0000005|    short|    Blacksmith Scene|    Blacksmith Scene|      0|     1893|     \\N|             1|        Comedy,Short|\n",
            "|tt0000006|    short|   Chinese Opium Den|   Chinese Opium Den|      0|     1894|     \\N|             1|               Short|\n",
            "|tt0000007|    short|Corbett and Court...|Corbett and Court...|      0|     1894|     \\N|             1|         Short,Sport|\n",
            "|tt0000008|    short|Edison Kinetoscop...|Edison Kinetoscop...|      0|     1894|     \\N|             1|   Documentary,Short|\n",
            "|tt0000009|    movie|          Miss Jerry|          Miss Jerry|      0|     1894|     \\N|            45|             Romance|\n",
            "|tt0000010|    short| Exiting the Factory|La sortie de l'us...|      0|     1895|     \\N|             1|   Documentary,Short|\n",
            "+---------+---------+--------------------+--------------------+-------+---------+-------+--------------+--------------------+\n",
            "only showing top 10 rows\n",
            "\n"
          ]
        }
      ]
    },
    {
      "cell_type": "code",
      "source": [
        "df_principals.show(10)"
      ],
      "metadata": {
        "colab": {
          "base_uri": "https://localhost:8080/"
        },
        "id": "HG7zhJuCVHuY",
        "outputId": "77169bff-2d53-42d6-8e8a-c06b6d87b4c7"
      },
      "execution_count": 12,
      "outputs": [
        {
          "output_type": "stream",
          "name": "stdout",
          "text": [
            "+---------+--------+---------+---------------+--------------------+-----------+\n",
            "|   tconst|ordering|   nconst|       category|                 job| characters|\n",
            "+---------+--------+---------+---------------+--------------------+-----------+\n",
            "|tt0000001|       1|nm1588970|           self|                  \\N|[\"Herself\"]|\n",
            "|tt0000001|       2|nm0005690|       director|                  \\N|         \\N|\n",
            "|tt0000001|       3|nm0374658|cinematographer|director of photo...|         \\N|\n",
            "|tt0000002|       1|nm0721526|       director|                  \\N|         \\N|\n",
            "|tt0000002|       2|nm1335271|       composer|                  \\N|         \\N|\n",
            "|tt0000003|       1|nm0721526|       director|                  \\N|         \\N|\n",
            "|tt0000003|       2|nm5442194|       producer|            producer|         \\N|\n",
            "|tt0000003|       3|nm1335271|       composer|                  \\N|         \\N|\n",
            "|tt0000003|       4|nm5442200|         editor|                  \\N|         \\N|\n",
            "|tt0000004|       1|nm0721526|       director|                  \\N|         \\N|\n",
            "+---------+--------+---------+---------------+--------------------+-----------+\n",
            "only showing top 10 rows\n",
            "\n"
          ]
        }
      ]
    },
    {
      "cell_type": "code",
      "source": [
        "df_rating_movie = df_basics.join(df_ratings,[\"tconst\"],\"inner\") \n",
        "df_rating_movie.show(5)"
      ],
      "metadata": {
        "colab": {
          "base_uri": "https://localhost:8080/"
        },
        "id": "C14s1fodoo_O",
        "outputId": "daae28ca-cbdf-457a-db41-c2cc9dc08ed2"
      },
      "execution_count": 13,
      "outputs": [
        {
          "output_type": "stream",
          "name": "stdout",
          "text": [
            "+---------+---------+--------------------+--------------------+-------+---------+-------+--------------+---------------+-------------+--------+\n",
            "|   tconst|titleType|        primaryTitle|       originalTitle|isAdult|startYear|endYear|runtimeMinutes|         genres|averageRating|numVotes|\n",
            "+---------+---------+--------------------+--------------------+-------+---------+-------+--------------+---------------+-------------+--------+\n",
            "|tt0000658|    short|The Puppet's Nigh...|Le cauchemar de F...|      0|     1908|     \\N|             2|Animation,Short|          6.4|     150|\n",
            "|tt0001732|    short|The Lighthouse Ke...|The Lighthouse Ke...|      0|     1911|     \\N|            \\N|    Drama,Short|          7.1|       8|\n",
            "|tt0002253|    short|          Home Folks|          Home Folks|      0|     1912|     \\N|            17|    Drama,Short|          4.2|       5|\n",
            "|tt0002473|    short|    The Sands of Dee|    The Sands of Dee|      0|     1912|     \\N|            17|  Romance,Short|          6.7|      58|\n",
            "|tt0002588|    short|Zigomar contre Ni...|Zigomar contre Ni...|      0|     1912|     \\N|            18|          Short|          6.2|      12|\n",
            "+---------+---------+--------------------+--------------------+-------+---------+-------+--------------+---------------+-------------+--------+\n",
            "only showing top 5 rows\n",
            "\n"
          ]
        }
      ]
    },
    {
      "cell_type": "code",
      "source": [
        "import pyspark.sql.types as func\n",
        "# Convert String to Integer Type\n",
        "df_rating_movie = df_rating_movie.withColumn(\"averageRating\",df_rating_movie.averageRating.cast(func.IntegerType()))\n",
        "df_rating_movie = df_rating_movie.withColumn(\"numVotes\",df_rating_movie.numVotes.cast('int'))\n"
      ],
      "metadata": {
        "id": "HCzqbMaWrdnz"
      },
      "execution_count": 14,
      "outputs": []
    },
    {
      "cell_type": "code",
      "source": [
        "import pyspark.sql.functions as func\n",
        "df_rating_movie = df_rating_movie.withColumn('genres', func.split(df_rating_movie['genres'], ','))"
      ],
      "metadata": {
        "id": "bc9JV7P_yMlT"
      },
      "execution_count": 15,
      "outputs": []
    },
    {
      "cell_type": "code",
      "source": [
        "df_rating_pandas = df_rating_movie.toPandas()"
      ],
      "metadata": {
        "id": "fOX5UgWHtgQf"
      },
      "execution_count": 16,
      "outputs": []
    },
    {
      "cell_type": "code",
      "source": [
        "df_rating_pandas.hist(\"averageRating\")\n",
        "#the histogram shows the ratings and how they are distributed"
      ],
      "metadata": {
        "colab": {
          "base_uri": "https://localhost:8080/",
          "height": 316
        },
        "id": "Ezz1MgPkvM26",
        "outputId": "93e71c3b-d392-48a0-fb6e-a7a7de5c2813"
      },
      "execution_count": 17,
      "outputs": [
        {
          "output_type": "execute_result",
          "data": {
            "text/plain": [
              "array([[<matplotlib.axes._subplots.AxesSubplot object at 0x7f4bda447e10>]],\n",
              "      dtype=object)"
            ]
          },
          "metadata": {},
          "execution_count": 17
        },
        {
          "output_type": "display_data",
          "data": {
            "text/plain": [
              "<Figure size 432x288 with 1 Axes>"
            ],
            "image/png": "[encoded data removed]"
          },
          "metadata": {
            "needs_background": "light"
          }
        }
      ]
    },
    {
      "cell_type": "code",
      "source": [
        "df_rating_pandas.dropna(inplace=True)\n",
        "genre_dict = {}\n",
        "\n",
        "for i in df_rating_pandas[\"genres\"]:\n",
        "    for j in i:\n",
        "        if j not in genre_dict:\n",
        "            genre_dict[j] = 1\n",
        "        else:\n",
        "            genre_dict[j] += 1"
      ],
      "metadata": {
        "id": "VhbH8YHdzLTy"
      },
      "execution_count": 44,
      "outputs": []
    },
    {
      "cell_type": "code",
      "source": [
        "\n",
        "df_genre = pd.Series(genre_dict)\n",
        "import matplotlib.pyplot as plt\n",
        "fig, ax = plt.subplots(figsize = (14,4))\n",
        "ax.bar(df_genre.index,\n",
        "        df_genre.values)\n",
        "plt.xticks(rotation = 90)\n",
        "ax.set_ylabel(\"Frequency\", size = 12)\n",
        "ax.set_title(\"Movie Genres\", size = 14)\n"
      ],
      "metadata": {
        "colab": {
          "base_uri": "https://localhost:8080/",
          "height": 357
        },
        "id": "L1XhH4Sm2x6c",
        "outputId": "86d32846-9c04-49d7-8259-2b2bdebc3112"
      },
      "execution_count": 25,
      "outputs": [
        {
          "output_type": "execute_result",
          "data": {
            "text/plain": [
              "Text(0.5, 1.0, 'Movie Genres')"
            ]
          },
          "metadata": {},
          "execution_count": 25
        },
        {
          "output_type": "display_data",
          "data": {
            "text/plain": [
              "<Figure size 1008x288 with 1 Axes>"
            ],
            "image/png": "[encoded data removed]"
          },
          "metadata": {
            "needs_background": "light"
          }
        }
      ]
    },
    {
      "cell_type": "code",
      "source": [
        " df_year = df_rating_pandas.groupby(\"startYear\")[\"averageRating\"].mean()"
      ],
      "metadata": {
        "id": "ncRF3Uaw4iIE"
      },
      "execution_count": 27,
      "outputs": []
    },
    {
      "cell_type": "code",
      "source": [
        "fig, ax = plt.subplots(figsize = (30,8))\n",
        "ax.plot(df_year)\n",
        "plt.title('Year~Rating')\n",
        "plt.xticks(rotation = 90)\n",
        "plt.show()"
      ],
      "metadata": {
        "colab": {
          "base_uri": "https://localhost:8080/",
          "height": 339
        },
        "id": "bhac_AH86jrF",
        "outputId": "c6802bf3-aa82-4fb6-b99a-5d675372e6f1"
      },
      "execution_count": 35,
      "outputs": [
        {
          "output_type": "display_data",
          "data": {
            "text/plain": [
              "<Figure size 2160x576 with 1 Axes>"
            ],
            "image/png": "[encoded data removed]"
          },
          "metadata": {
            "needs_background": "light"
          }
        }
      ]
    }
  ]
}