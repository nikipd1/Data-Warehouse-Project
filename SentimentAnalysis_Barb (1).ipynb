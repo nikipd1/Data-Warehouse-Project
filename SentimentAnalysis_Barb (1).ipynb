{
  "nbformat": 4,
  "nbformat_minor": 0,
  "metadata": {
    "colab": {
      "name": "SentimentAnalysis-Barb.ipynb",
      "provenance": [],
      "collapsed_sections": []
    },
    "kernelspec": {
      "name": "python3",
      "display_name": "Python 3"
    },
    "language_info": {
      "name": "python"
    }
  },
  "cells": [
    {
      "cell_type": "code",
      "execution_count": 1,
      "metadata": {
        "colab": {
          "base_uri": "https://localhost:8080/"
        },
        "id": "KXA4gZ-ob3AD",
        "outputId": "a44fcb24-afc8-4520-a361-745da0b0eab9"
      },
      "outputs": [
        {
          "output_type": "stream",
          "name": "stdout",
          "text": [
            "Mounted at /content/drive\n"
          ]
        }
      ],
      "source": [
        "!wget -q https://dlcdn.apache.org/spark/spark-3.1.2/spark-3.1.2-bin-hadoop2.7.tgz \n",
        "!tar xf spark-3.1.2-bin-hadoop2.7.tgz\n",
        "import os\n",
        "os.environ[\"JAVA_HOME\"] = \"/usr/lib/jvm/default-java\"\n",
        "os.environ[\"SPARK_HOME\"] = \"/content/spark-3.1.2-bin-hadoop2.7\"\n",
        "!pip install -q findspark\n",
        "import findspark\n",
        "findspark.init()\n",
        "\n",
        "from pyspark.sql import SparkSession\n",
        "spark = SparkSession.builder\\\n",
        "        .master(\"local\")\\\n",
        "        .appName(\"Colab\")\\\n",
        "        .config('spark.ui.port', '4050')\\\n",
        "        .getOrCreate()\n",
        "\n",
        "from google.colab import drive\n",
        "drive.mount('/content/drive')\n"
      ]
    },
    {
      "cell_type": "code",
      "source": [
        "from pyspark.sql.types import *\n",
        "from pyspark.sql import SparkSession\n",
        "\n",
        "!head -5 /content/drive/MyDrive/data/IMDb_movies.csv\n",
        "!head -5 /content/drive/MyDrive/data/IMDb_ratings.csv\n",
        "!head -5 /content/drive/MyDrive/data/netflix_dataset.csv\n",
        "\n"
      ],
      "metadata": {
        "colab": {
          "base_uri": "https://localhost:8080/"
        },
        "id": "VlO16zeqcR-4",
        "outputId": "ae91b211-b6e5-4d03-835d-fad51cdf767e"
      },
      "execution_count": 7,
      "outputs": [
        {
          "output_type": "stream",
          "name": "stdout",
          "text": [
            "imdb_title_id,title,original_title,year,date_published,genre,duration,country,language,director,writer,production_company,actors,description,avg_vote,votes,budget,usa_gross_income,worlwide_gross_income,metascore,reviews_from_users,reviews_from_critics\r\n",
            "tt0000009,Miss Jerry,Miss Jerry,1894,1894-10-09,Romance,45,USA,None,Alexander Black,Alexander Black,Alexander Black Photoplays,\"Blanche Bayliss, William Courtenay, Chauncey Depew\",The adventures of a female reporter in the 1890s.,5.9,154,,,,,1,2\r\n",
            "tt0000574,The Story of the Kelly Gang,The Story of the Kelly Gang,1906,26-12-1906,\"Biography, Crime, Drama\",70,Australia,None,Charles Tait,Charles Tait,J. and N. Tait,\"Elizabeth Tait, John Tait, Norman Campbell, Bella Cola, Will Coyne, Sam Crewes, Jack Ennis, John Forde, Vera Linden, Mr. Marshall, Mr. McKenzie, Frank Mills, Ollie Wilson\",True story of notorious Australian outlaw Ned Kelly (1855-80).,6.1,589,$ 2250,,,,7,7\r\n",
            "tt0001892,Den sorte drøm,Den sorte drøm,1911,19-08-1911,Drama,53,\"Germany, Denmark\",,Urban Gad,\"Urban Gad, Gebhard Schätzler-Perasini\",Fotorama,\"Asta Nielsen, Valdemar Psilander, Gunnar Helsengreen, Emil Albes, Hugo Flink, Mary Hagen\",\"Two men of high rank are both wooing the beautiful and famous equestrian acrobat Stella. While Stella ignores the jeweler Hirsch, she accepts Count von Waldberg's offer to follow her home, ...\",5.8,188,,,,,5,2\r\n",
            "tt0002101,Cleopatra,Cleopatra,1912,13-11-1912,\"Drama, History\",100,USA,English,Charles L. Gaskill,Victorien Sardou,Helen Gardner Picture Players,\"Helen Gardner, Pearl Sindelar, Miss Fielding, Miss Robson, Helene Costello, Charles Sindelar, Mr. Howard, James R. Waite, Mr. Osborne, Harry Knowles, Mr. Paul, Mr. Brady, Mr. Corker\",The fabled queen of Egypt's affair with Roman general Marc Antony is ultimately disastrous for both of them.,5.2,446,$ 45000,,,,25,3\n",
            "imdb_title_id,weighted_average_vote,total_votes,mean_vote,median_vote,votes_10,votes_9,votes_8,votes_7,votes_6,votes_5,votes_4,votes_3,votes_2,votes_1,allgenders_0age_avg_vote,allgenders_0age_votes,allgenders_18age_avg_vote,allgenders_18age_votes,allgenders_30age_avg_vote,allgenders_30age_votes,allgenders_45age_avg_vote,allgenders_45age_votes,males_allages_avg_vote,males_allages_votes,males_0age_avg_vote,males_0age_votes,males_18age_avg_vote,males_18age_votes,males_30age_avg_vote,males_30age_votes,males_45age_avg_vote,males_45age_votes,females_allages_avg_vote,females_allages_votes,females_0age_avg_vote,females_0age_votes,females_18age_avg_vote,females_18age_votes,females_30age_avg_vote,females_30age_votes,females_45age_avg_vote,females_45age_votes,top1000_voters_rating,top1000_voters_votes,us_voters_rating,us_voters_votes,non_us_voters_rating,non_us_voters_votes\n",
            "tt0000009,5.9,154,5.9,6,12,4,10,43,28,28,9,1,5,14,7.2,4,6,38,5.7,50,6.6,35,6.2,97,7,1,5.9,24,5.6,36,6.7,31,6,35,7.3,3,5.9,14,5.7,13,4.5,4,5.7,34,6.4,51,6,70\n",
            "tt0000574,6.1,589,6.3,6,57,18,58,137,139,103,28,20,13,16,6,1,6.1,114,6,239,6.3,115,6.1,425,6,1,6.2,102,6,210,6.2,100,6.2,50,,,5.9,12,6.2,23,6.6,14,6.4,66,6,96,6.2,331\n",
            "tt0001892,5.8,188,6,6,6,6,17,44,52,32,16,5,6,4,,,5.5,25,5.8,72,6.2,62,5.9,146,,,5.5,21,5.9,67,6.2,55,5.7,15,,,5.8,4,5.8,4,6.8,7,5.4,32,6.2,31,5.9,123\n",
            "tt0002101,5.2,446,5.3,5,15,8,16,62,98,117,63,26,25,16,,,5.3,23,5,111,5.3,193,5.1,299,,,5.2,20,4.9,96,5.2,171,5.9,39,,,5.7,3,5.5,14,6.1,21,4.9,57,5.5,207,4.7,105\n",
            "show_id,type,title,director,cast,country,date_added,release_year,rating,duration,listed_in,description\n",
            "s1,TV Show,3%,,\"João Miguel, Bianca Comparato, Michel Gomes, Rodolfo Valente, Vaneza Oliveira, Rafael Lozano, Viviane Porto, Mel Fronckowiak, Sergio Mamberti, Zezé Motta, Celso Frateschi\",Brazil,\"August 14, 2020\",2020,TV-MA,4 Seasons,\"International TV Shows, TV Dramas, TV Sci-Fi & Fantasy\",\"In a future where the elite inhabit an island paradise far from the crowded slums, you get one chance to join the 3% saved from squalor.\"\n",
            "s2,Movie,07:19,Jorge Michel Grau,\"Demián Bichir, Héctor Bonilla, Oscar Serrano, Azalia Ortiz, Octavio Michel, Carmen Beato\",Mexico,\"December 23, 2016\",2016,TV-MA,93 min,\"Dramas, International Movies\",\"After a devastating earthquake hits Mexico City, trapped survivors from all walks of life wait to be rescued while trying desperately to stay alive.\"\n",
            "s3,Movie,23:59,Gilbert Chan,\"Tedd Chan, Stella Chung, Henley Hii, Lawrence Koh, Tommy Kuan, Josh Lai, Mark Lee, Susan Leong, Benjamin Lim\",Singapore,\"December 20, 2018\",2011,R,78 min,\"Horror Movies, International Movies\",\"When an army recruit is found dead, his fellow soldiers are forced to confront a terrifying secret that's haunting their jungle island training camp.\"\n",
            "s4,Movie,9,Shane Acker,\"Elijah Wood, John C. Reilly, Jennifer Connelly, Christopher Plummer, Crispin Glover, Martin Landau, Fred Tatasciore, Alan Oppenheimer, Tom Kane\",United States,\"November 16, 2017\",2009,PG-13,80 min,\"Action & Adventure, Independent Movies, Sci-Fi & Fantasy\",\"In a postapocalyptic world, rag-doll robots hide in fear from dangerous machines out to exterminate them, until a brave newcomer joins the group.\"\n"
          ]
        }
      ]
    },
    {
      "cell_type": "code",
      "source": [
        "movie_schema = StructType([\n",
        "        StructField(\"imdb_title_id\", StringType(), True),\n",
        "        StructField(\"title\", StringType(), True),\n",
        "        StructField(\"original_title\", StringType(), True),\n",
        "        StructField(\"year\", IntegerType(), True),\n",
        "        StructField(\"date_published\", StringType(), True),\n",
        "        StructField(\"genre\", StringType(), True),\n",
        "        StructField(\"duration\", IntegerType(), True),\n",
        "        StructField(\"country\", StringType(), True),\n",
        "        StructField(\"language\", StringType(), True),\n",
        "        StructField(\"director\", StringType(), True)])\n",
        "\n",
        "df_movie = spark.read.csv('/content/drive/MyDrive/data/IMDb_movies.csv', sep=',',schema = movie_schema, header=True)\n",
        "\n",
        "df_movie.show()"
      ],
      "metadata": {
        "colab": {
          "base_uri": "https://localhost:8080/"
        },
        "id": "QRaetYT42FkB",
        "outputId": "ca0ef89f-b3cf-491e-c46f-88df3f512693"
      },
      "execution_count": 9,
      "outputs": [
        {
          "output_type": "stream",
          "name": "stdout",
          "text": [
            "+-------------+--------------------+--------------------+----+--------------+--------------------+--------+----------------+---------------+--------------------+\n",
            "|imdb_title_id|               title|      original_title|year|date_published|               genre|duration|         country|       language|            director|\n",
            "+-------------+--------------------+--------------------+----+--------------+--------------------+--------+----------------+---------------+--------------------+\n",
            "|    tt0000009|          Miss Jerry|          Miss Jerry|1894|    1894-10-09|             Romance|      45|             USA|           None|     Alexander Black|\n",
            "|    tt0000574|The Story of the ...|The Story of the ...|1906|    26-12-1906|Biography, Crime,...|      70|       Australia|           None|        Charles Tait|\n",
            "|    tt0001892|      Den sorte drøm|      Den sorte drøm|1911|    19-08-1911|               Drama|      53|Germany, Denmark|           null|           Urban Gad|\n",
            "|    tt0002101|           Cleopatra|           Cleopatra|1912|    13-11-1912|      Drama, History|     100|             USA|        English|  Charles L. Gaskill|\n",
            "|    tt0002130|           L'Inferno|           L'Inferno|1911|    06-03-1911|Adventure, Drama,...|      68|           Italy|        Italian|Francesco Bertoli...|\n",
            "|    tt0002199|From the Manger t...|From the Manger t...|1912|          1913|    Biography, Drama|      60|             USA|        English|       Sidney Olcott|\n",
            "|    tt0002423|      Madame DuBarry|      Madame DuBarry|1919|    26-11-1919|Biography, Drama,...|      85|         Germany|         German|      Ernst Lubitsch|\n",
            "|    tt0002445|          Quo Vadis?|          Quo Vadis?|1913|    01-03-1913|      Drama, History|     120|           Italy|        Italian|     Enrico Guazzoni|\n",
            "|    tt0002452|Independenta Roma...|Independenta Roma...|1912|    01-09-1912|        History, War|     120|         Romania|           null|Aristide Demetria...|\n",
            "|    tt0002461|         Richard III|         Richard III|1912|    15-10-1912|               Drama|      55|     France, USA|        English|André Calmettes, ...|\n",
            "|    tt0002646|            Atlantis|            Atlantis|1913|    26-12-1913|               Drama|     121|         Denmark|         Danish|         August Blom|\n",
            "|    tt0002844|Fantômas - À l'om...|Fantômas - À l'om...|1913|    12-05-1913|        Crime, Drama|      54|          France|         French|     Louis Feuillade|\n",
            "|    tt0003014|Il calvario di un...|       Ingeborg Holm|1913|    18-10-1915|               Drama|      96|          Sweden|           null|     Victor Sjöström|\n",
            "|    tt0003037|Juve contre Fantômas|Juve contre Fantômas|1913|    08-09-1913|        Crime, Drama|      61|          France|         French|     Louis Feuillade|\n",
            "|    tt0003102|Ma l'amor mio non...|Ma l'amor mio non...|1914|    01-01-1914|               Drama|      90|           Italy|        Italian|      Mario Caserini|\n",
            "|    tt0003131|Maudite soit la g...|Maudite soit la g...|1914|    01-05-1914|          Drama, War|      50|         Belgium|         French|       Alfred Machin|\n",
            "|    tt0003165|     Le mort qui tue|     Le mort qui tue|1913|    06-11-1913|Crime, Drama, Mys...|      90|          France|         French|     Louis Feuillade|\n",
            "|    tt0003167|      Amore di madre|    Home, Sweet Home|1914|    17-05-1914|               Drama|      55|             USA|        English|       D.W. Griffith|\n",
            "|    tt0003419|Lo studente di Praga|Der Student von Prag|1913|    22-08-1913|Drama, Fantasy, H...|      85|         Germany|German, English|Paul Wegener, Ste...|\n",
            "|    tt0003471|    Traffic in Souls|    Traffic in Souls|1913|    24-11-1913|        Crime, Drama|      88|             USA|        English| George Loane Tucker|\n",
            "+-------------+--------------------+--------------------+----+--------------+--------------------+--------+----------------+---------------+--------------------+\n",
            "only showing top 20 rows\n",
            "\n"
          ]
        }
      ]
    },
    {
      "cell_type": "code",
      "source": [
        "ratings_schema = StructType([\n",
        "        StructField(\"imdb_title_id\", StringType(), True),\n",
        "        StructField(\"weighted_average_vote\", StringType(), True),\n",
        "        StructField(\"total_votes\", IntegerType(), True),\n",
        "        StructField(\"mean_vote\", FloatType(), True),\n",
        "        StructField(\"median_vote\", IntegerType(), True),\n",
        "        StructField(\"vote_10\", IntegerType(), True),\n",
        "        StructField(\"vote_9\", IntegerType(), True),\n",
        "        StructField(\"vote_8\", IntegerType(), True),\n",
        "        StructField(\"vote_7\", IntegerType(), True),\n",
        "        StructField(\"vote_6\", IntegerType(), True)])\n",
        "      \n",
        "df_ratings = spark.read.csv('/content/drive/MyDrive/data/IMDb_ratings.csv', sep=',',schema = ratings_schema, header=True)       \n",
        "df_ratings.show()"
      ],
      "metadata": {
        "colab": {
          "base_uri": "https://localhost:8080/"
        },
        "id": "wilGpOCB6H-T",
        "outputId": "5e163b22-f0ae-4d90-f292-6a3cdf08840f"
      },
      "execution_count": 71,
      "outputs": [
        {
          "output_type": "stream",
          "name": "stdout",
          "text": [
            "+-------------+---------------------+-----------+---------+-----------+-------+------+------+------+------+\n",
            "|imdb_title_id|weighted_average_vote|total_votes|mean_vote|median_vote|vote_10|vote_9|vote_8|vote_7|vote_6|\n",
            "+-------------+---------------------+-----------+---------+-----------+-------+------+------+------+------+\n",
            "|    tt0000009|                  5.9|        154|      5.9|          6|     12|     4|    10|    43|    28|\n",
            "|    tt0000574|                  6.1|        589|      6.3|          6|     57|    18|    58|   137|   139|\n",
            "|    tt0001892|                  5.8|        188|      6.0|          6|      6|     6|    17|    44|    52|\n",
            "|    tt0002101|                  5.2|        446|      5.3|          5|     15|     8|    16|    62|    98|\n",
            "|    tt0002130|                    7|       2237|      6.9|          7|    210|   225|   436|   641|   344|\n",
            "|    tt0002199|                  5.7|        484|      5.8|          6|     33|    15|    48|    80|   123|\n",
            "|    tt0002423|                  6.8|        753|      6.8|          7|     80|    65|   105|   209|   142|\n",
            "|    tt0002445|                  6.2|        273|      6.2|          6|     15|     8|    30|    74|    66|\n",
            "|    tt0002452|                  6.7|        198|      7.1|          7|     53|     7|    23|    35|    30|\n",
            "|    tt0002461|                  5.5|        225|      5.4|          6|      9|     6|    22|    34|    53|\n",
            "|    tt0002646|                  6.6|        331|      6.6|          7|     17|    23|    63|    99|    66|\n",
            "|    tt0002844|                    7|       1944|      6.6|          7|    195|   145|   335|   546|   363|\n",
            "|    tt0003014|                  7.1|        948|      7.2|          7|    128|   100|   161|   275|   156|\n",
            "|    tt0003037|                    7|       1349|      6.5|          7|    122|   118|   234|   356|   246|\n",
            "|    tt0003102|                  6.2|        100|      6.3|          6|      7|     5|    10|    23|    31|\n",
            "|    tt0003131|                  6.5|        124|      6.7|          7|      9|    14|    15|    36|    24|\n",
            "|    tt0003165|                    7|       1050|      6.6|          7|    105|    99|   164|   282|   184|\n",
            "|    tt0003167|                  5.8|        187|      6.1|          6|     15|     6|    16|    32|    54|\n",
            "|    tt0003419|                  6.5|       1768|      6.5|          7|    137|    95|   233|   487|   407|\n",
            "|    tt0003471|                    6|        552|      6.0|          6|     26|    15|    71|   100|   158|\n",
            "+-------------+---------------------+-----------+---------+-----------+-------+------+------+------+------+\n",
            "only showing top 20 rows\n",
            "\n"
          ]
        }
      ]
    },
    {
      "cell_type": "code",
      "source": [
        "netflix_schema = StructType([\n",
        "        StructField(\"show_id\", StringType(), True),\n",
        "        StructField(\"type\", StringType(), True),\n",
        "        StructField(\"title\", StringType(), True),\n",
        "        StructField(\"director\", StringType(), True),\n",
        "        StructField(\"cast\", StringType(), True),\n",
        "        StructField(\"country\", StringType(), True),\n",
        "        StructField(\"date_added\", StringType(), True),\n",
        "        StructField(\"release_year\", IntegerType(), True),\n",
        "        StructField(\"rating\", StringType(), True),\n",
        "        StructField(\"duration\", StringType(), True)])\n",
        "      \n",
        "df_netflix = spark.read.csv('/content/drive/MyDrive/data/netflix_dataset.csv', sep=',',schema = netflix_schema, header=True)       \n",
        "df_netflix.show()"
      ],
      "metadata": {
        "colab": {
          "base_uri": "https://localhost:8080/"
        },
        "id": "Q9E_m7JK8BzU",
        "outputId": "69cb1de7-5e46-471e-e780-696851b4be88"
      },
      "execution_count": 44,
      "outputs": [
        {
          "output_type": "stream",
          "name": "stdout",
          "text": [
            "+-------+-------+------+--------------------+--------------------+--------------------+-----------------+------------+------+---------+\n",
            "|show_id|   type| title|            director|                cast|             country|       date_added|release_year|rating| duration|\n",
            "+-------+-------+------+--------------------+--------------------+--------------------+-----------------+------------+------+---------+\n",
            "|     s1|TV Show|    3%|                null|João Miguel, Bian...|              Brazil|  August 14, 2020|        2020| TV-MA|4 Seasons|\n",
            "|     s2|  Movie| 07:19|   Jorge Michel Grau|Demián Bichir, Hé...|              Mexico|December 23, 2016|        2016| TV-MA|   93 min|\n",
            "|     s3|  Movie| 23:59|        Gilbert Chan|Tedd Chan, Stella...|           Singapore|December 20, 2018|        2011|     R|   78 min|\n",
            "|     s4|  Movie|     9|         Shane Acker|Elijah Wood, John...|       United States|November 16, 2017|        2009| PG-13|   80 min|\n",
            "|     s5|  Movie|    21|      Robert Luketic|Jim Sturgess, Kev...|       United States|  January 1, 2020|        2008| PG-13|  123 min|\n",
            "|     s6|TV Show|    46|         Serdar Akar|Erdal Beşikçioğlu...|              Turkey|     July 1, 2017|        2016| TV-MA| 1 Season|\n",
            "|     s7|  Movie|   122|     Yasir Al Yasiri|Amina Khalil, Ahm...|               Egypt|     June 1, 2020|        2019| TV-MA|   95 min|\n",
            "|     s8|  Movie|   187|      Kevin Reynolds|Samuel L. Jackson...|       United States| November 1, 2019|        1997|     R|  119 min|\n",
            "|     s9|  Movie|   706|       Shravan Kumar|Divya Dutta, Atul...|               India|    April 1, 2019|        2019| TV-14|  118 min|\n",
            "|    s10|  Movie|  1920|        Vikram Bhatt|Rajneesh Duggal, ...|               India|December 15, 2017|        2008| TV-MA|  143 min|\n",
            "|    s11|  Movie|  1922|        Zak Hilditch|Thomas Jane, Moll...|       United States| October 20, 2017|        2017| TV-MA|  103 min|\n",
            "|    s12|TV Show|  1983|                null|Robert Więckiewic...|Poland, United St...|November 30, 2018|        2018| TV-MA| 1 Season|\n",
            "|    s13|TV Show|  1994|Diego Enrique Osorno|                null|              Mexico|     May 17, 2019|        2019| TV-MA| 1 Season|\n",
            "|    s14|  Movie| 2,215| Nottapon Boonprakob|  Artiwara Kongmalai|            Thailand|    March 1, 2019|        2018| TV-MA|   89 min|\n",
            "|    s15|  Movie|  3022|          John Suits|Omar Epps, Kate W...|       United States|   March 19, 2020|        2019|     R|   91 min|\n",
            "|    s16|  Movie|Oct-01|      Kunle Afolayan|Sadiq Daba, David...|             Nigeria|September 1, 2019|        2014| TV-14|  149 min|\n",
            "|    s17|TV Show|Feb-09|                null|Shahd El Yaseen, ...|                null|   March 20, 2019|        2018| TV-14| 1 Season|\n",
            "|    s18|  Movie|22-Jul|     Paul Greengrass|Anders Danielsen ...|Norway, Iceland, ...| October 10, 2018|        2018|     R|  144 min|\n",
            "|    s19|  Movie|15-Aug|  Swapnaneel Jayakar|Rahul Pethe, Mrun...|               India|   March 29, 2019|        2019| TV-14|  124 min|\n",
            "|    s20|  Movie|   '89|                null|Lee Dixon, Ian Wr...|      United Kingdom|     May 16, 2018|        2017| TV-PG|   87 min|\n",
            "+-------+-------+------+--------------------+--------------------+--------------------+-----------------+------------+------+---------+\n",
            "only showing top 20 rows\n",
            "\n"
          ]
        }
      ]
    },
    {
      "cell_type": "code",
      "source": [
        "df_movie_model=df_movie.select('imdb_title_id', 'title')\n",
        "df_movie_model.show( truncate= False)"
      ],
      "metadata": {
        "colab": {
          "base_uri": "https://localhost:8080/"
        },
        "id": "aQKCLmSX-F64",
        "outputId": "420eebdb-c448-48fb-a1b1-e9927e02a0bd"
      },
      "execution_count": 45,
      "outputs": [
        {
          "output_type": "stream",
          "name": "stdout",
          "text": [
            "+-------------+---------------------------------------------------+\n",
            "|imdb_title_id|title                                              |\n",
            "+-------------+---------------------------------------------------+\n",
            "|tt0000009    |Miss Jerry                                         |\n",
            "|tt0000574    |The Story of the Kelly Gang                        |\n",
            "|tt0001892    |Den sorte drøm                                     |\n",
            "|tt0002101    |Cleopatra                                          |\n",
            "|tt0002130    |L'Inferno                                          |\n",
            "|tt0002199    |From the Manger to the Cross; or, Jesus of Nazareth|\n",
            "|tt0002423    |Madame DuBarry                                     |\n",
            "|tt0002445    |Quo Vadis?                                         |\n",
            "|tt0002452    |Independenta Romaniei                              |\n",
            "|tt0002461    |Richard III                                        |\n",
            "|tt0002646    |Atlantis                                           |\n",
            "|tt0002844    |Fantômas - À l'ombre de la guillotine              |\n",
            "|tt0003014    |Il calvario di una madre                           |\n",
            "|tt0003037    |Juve contre Fantômas                               |\n",
            "|tt0003102    |Ma l'amor mio non muore...                         |\n",
            "|tt0003131    |Maudite soit la guerre                             |\n",
            "|tt0003165    |Le mort qui tue                                    |\n",
            "|tt0003167    |Amore di madre                                     |\n",
            "|tt0003419    |Lo studente di Praga                               |\n",
            "|tt0003471    |Traffic in Souls                                   |\n",
            "+-------------+---------------------------------------------------+\n",
            "only showing top 20 rows\n",
            "\n"
          ]
        }
      ]
    },
    {
      "cell_type": "code",
      "source": [
        "df_ratings_model=df_ratings.select('imdb_title_id', 'weighted_average_vote')\n",
        "df_ratings_model.show( truncate= False)"
      ],
      "metadata": {
        "colab": {
          "base_uri": "https://localhost:8080/"
        },
        "id": "DmJUqod3-8j1",
        "outputId": "7121907f-4db1-4dce-ff94-40e8e2a97ef8"
      },
      "execution_count": 56,
      "outputs": [
        {
          "output_type": "stream",
          "name": "stdout",
          "text": [
            "+-------------+---------------------+\n",
            "|imdb_title_id|weighted_average_vote|\n",
            "+-------------+---------------------+\n",
            "|tt0000009    |5.9                  |\n",
            "|tt0000574    |6.1                  |\n",
            "|tt0001892    |5.8                  |\n",
            "|tt0002101    |5.2                  |\n",
            "|tt0002130    |7                    |\n",
            "|tt0002199    |5.7                  |\n",
            "|tt0002423    |6.8                  |\n",
            "|tt0002445    |6.2                  |\n",
            "|tt0002452    |6.7                  |\n",
            "|tt0002461    |5.5                  |\n",
            "|tt0002646    |6.6                  |\n",
            "|tt0002844    |7                    |\n",
            "|tt0003014    |7.1                  |\n",
            "|tt0003037    |7                    |\n",
            "|tt0003102    |6.2                  |\n",
            "|tt0003131    |6.5                  |\n",
            "|tt0003165    |7                    |\n",
            "|tt0003167    |5.8                  |\n",
            "|tt0003419    |6.5                  |\n",
            "|tt0003471    |6                    |\n",
            "+-------------+---------------------+\n",
            "only showing top 20 rows\n",
            "\n"
          ]
        }
      ]
    },
    {
      "cell_type": "code",
      "source": [
        "df_movie_ratings = df_ratings_model.join(df_movie_model, 'imdb_title_id',) \\\n",
        "                                                .select(df_movie_model['title'],  \n",
        "                                                df_ratings_model['imdb_title_id'],\n",
        "                                                df_ratings_model['weighted_average_vote'])\n",
        "                                                \n",
        "df_movie_ratings.show()"
      ],
      "metadata": {
        "colab": {
          "base_uri": "https://localhost:8080/"
        },
        "id": "2qz5hVBd-equ",
        "outputId": "f0a4b6bc-8567-472c-eaf2-a5665a45e93e"
      },
      "execution_count": 57,
      "outputs": [
        {
          "output_type": "stream",
          "name": "stdout",
          "text": [
            "+--------------------+-------------+---------------------+\n",
            "|               title|imdb_title_id|weighted_average_vote|\n",
            "+--------------------+-------------+---------------------+\n",
            "|          Miss Jerry|    tt0000009|                  5.9|\n",
            "|The Story of the ...|    tt0000574|                  6.1|\n",
            "|      Den sorte drøm|    tt0001892|                  5.8|\n",
            "|           Cleopatra|    tt0002101|                  5.2|\n",
            "|           L'Inferno|    tt0002130|                    7|\n",
            "|From the Manger t...|    tt0002199|                  5.7|\n",
            "|      Madame DuBarry|    tt0002423|                  6.8|\n",
            "|          Quo Vadis?|    tt0002445|                  6.2|\n",
            "|Independenta Roma...|    tt0002452|                  6.7|\n",
            "|         Richard III|    tt0002461|                  5.5|\n",
            "|            Atlantis|    tt0002646|                  6.6|\n",
            "|Fantômas - À l'om...|    tt0002844|                    7|\n",
            "|Il calvario di un...|    tt0003014|                  7.1|\n",
            "|Juve contre Fantômas|    tt0003037|                    7|\n",
            "|Ma l'amor mio non...|    tt0003102|                  6.2|\n",
            "|Maudite soit la g...|    tt0003131|                  6.5|\n",
            "|     Le mort qui tue|    tt0003165|                    7|\n",
            "|      Amore di madre|    tt0003167|                  5.8|\n",
            "|Lo studente di Praga|    tt0003419|                  6.5|\n",
            "|    Traffic in Souls|    tt0003471|                    6|\n",
            "+--------------------+-------------+---------------------+\n",
            "only showing top 20 rows\n",
            "\n"
          ]
        }
      ]
    },
    {
      "cell_type": "code",
      "source": [
        "df_netflix_model=df_netflix.select('title', 'type', 'rating')\n",
        "df_netflix_model.show( truncate= False)"
      ],
      "metadata": {
        "colab": {
          "base_uri": "https://localhost:8080/"
        },
        "id": "nnXKS_xDKOGS",
        "outputId": "adcc967d-04d0-4f51-9385-310d6de4a7cf"
      },
      "execution_count": 48,
      "outputs": [
        {
          "output_type": "stream",
          "name": "stdout",
          "text": [
            "+------+-------+------+\n",
            "|title |type   |rating|\n",
            "+------+-------+------+\n",
            "|3%    |TV Show|TV-MA |\n",
            "|07:19 |Movie  |TV-MA |\n",
            "|23:59 |Movie  |R     |\n",
            "|9     |Movie  |PG-13 |\n",
            "|21    |Movie  |PG-13 |\n",
            "|46    |TV Show|TV-MA |\n",
            "|122   |Movie  |TV-MA |\n",
            "|187   |Movie  |R     |\n",
            "|706   |Movie  |TV-14 |\n",
            "|1920  |Movie  |TV-MA |\n",
            "|1922  |Movie  |TV-MA |\n",
            "|1983  |TV Show|TV-MA |\n",
            "|1994  |TV Show|TV-MA |\n",
            "|2,215 |Movie  |TV-MA |\n",
            "|3022  |Movie  |R     |\n",
            "|Oct-01|Movie  |TV-14 |\n",
            "|Feb-09|TV Show|TV-14 |\n",
            "|22-Jul|Movie  |R     |\n",
            "|15-Aug|Movie  |TV-14 |\n",
            "|'89   |Movie  |TV-PG |\n",
            "+------+-------+------+\n",
            "only showing top 20 rows\n",
            "\n"
          ]
        }
      ]
    },
    {
      "cell_type": "code",
      "source": [
        "df_netflix_ratings = df_netflix_model.join(df_movie_ratings, 'title',) \\\n",
        "                                                .select(df_movie_ratings['weighted_average_vote'], \n",
        "                                                df_netflix_model['title'],\n",
        "                                                df_netflix_model['type'])\n",
        "\n",
        "df_netflix_rating_clean = df_netflix_ratings.na.drop()\n",
        "df_netflix_rating_clean.show()                                         \n"
      ],
      "metadata": {
        "colab": {
          "base_uri": "https://localhost:8080/"
        },
        "id": "V4deMe0MDSk-",
        "outputId": "96fe7b36-bb1d-4b1e-c317-d35e4f805fdf"
      },
      "execution_count": 49,
      "outputs": [
        {
          "output_type": "stream",
          "name": "stdout",
          "text": [
            "+---------------------+--------------------+-------+\n",
            "|weighted_average_vote|               title|   type|\n",
            "+---------------------+--------------------+-------+\n",
            "|                    6|            The Trap|  Movie|\n",
            "|                    6|Sweeney Todd: The...|  Movie|\n",
            "|                    7|             Pandora|  Movie|\n",
            "|                    6|         The Fighter|  Movie|\n",
            "|                    7|                Amar|  Movie|\n",
            "|                    7|              Gumrah|  Movie|\n",
            "|                    6|            Jonathan|  Movie|\n",
            "|                    7|          Dad's Army|TV Show|\n",
            "|                    8|            Bawarchi|  Movie|\n",
            "|                    8|            Veronica|  Movie|\n",
            "|                    7|              Faraar|  Movie|\n",
            "|                    8|     Chashme Buddoor|  Movie|\n",
            "|                    7|             Requiem|TV Show|\n",
            "|                    5|                 Joy|  Movie|\n",
            "|                    6|               Pukar|  Movie|\n",
            "|                    5|              Sahara|  Movie|\n",
            "|                    6|               Polar|  Movie|\n",
            "|                    7|Trikal (Past, Pre...|  Movie|\n",
            "|                    6|         School Daze|  Movie|\n",
            "|                    7|               After|  Movie|\n",
            "+---------------------+--------------------+-------+\n",
            "only showing top 20 rows\n",
            "\n"
          ]
        }
      ]
    },
    {
      "cell_type": "code",
      "source": [
        "df_netflix_rating_clean.sort(df_netflix_rating_clean.weighted_average_vote.desc()).show(truncate=False)"
      ],
      "metadata": {
        "colab": {
          "base_uri": "https://localhost:8080/"
        },
        "id": "n68aq0rK_CsH",
        "outputId": "73d8c971-a862-4b0a-ba53-8c7df8961cf3"
      },
      "execution_count": 50,
      "outputs": [
        {
          "output_type": "stream",
          "name": "stdout",
          "text": [
            "+---------------------+---------------------+-------+\n",
            "|weighted_average_vote|title                |type   |\n",
            "+---------------------+---------------------+-------+\n",
            "|9                    |Breakout             |TV Show|\n",
            "|9                    |Innocent             |TV Show|\n",
            "|8                    |Bawarchi             |Movie  |\n",
            "|8                    |Veronica             |Movie  |\n",
            "|8                    |Brother              |Movie  |\n",
            "|8                    |My Sassy Girl        |TV Show|\n",
            "|8                    |Chashme Buddoor      |Movie  |\n",
            "|8                    |Dallas Buyers Club   |Movie  |\n",
            "|8                    |Magnolia             |Movie  |\n",
            "|8                    |I Am Kalam           |Movie  |\n",
            "|8                    |Company              |Movie  |\n",
            "|8                    |Casino Royale        |Movie  |\n",
            "|8                    |Sin City             |Movie  |\n",
            "|8                    |Ip Man               |Movie  |\n",
            "|8                    |Dev.D                |Movie  |\n",
            "|8                    |The Help             |Movie  |\n",
            "|8                    |Short Term 12        |Movie  |\n",
            "|8                    |Pizza                |Movie  |\n",
            "|8                    |Ugly                 |Movie  |\n",
            "|8                    |The Gospel of Matthew|Movie  |\n",
            "+---------------------+---------------------+-------+\n",
            "only showing top 20 rows\n",
            "\n"
          ]
        }
      ]
    },
    {
      "cell_type": "code",
      "source": [
        "df_netflix = df_netflix_rating_clean.sort(df_netflix_rating_clean.weighted_average_vote.asc()).show(truncate=False)\n"
      ],
      "metadata": {
        "colab": {
          "base_uri": "https://localhost:8080/"
        },
        "id": "K7W_C0IXCcW4",
        "outputId": "3a368906-1a3c-498e-f92d-576f6e32eda6"
      },
      "execution_count": 51,
      "outputs": [
        {
          "output_type": "stream",
          "name": "stdout",
          "text": [
            "+---------------------+--------------------------------------+-------+\n",
            "|weighted_average_vote|title                                 |type   |\n",
            "+---------------------+--------------------------------------+-------+\n",
            "|2                    |Amy                                   |Movie  |\n",
            "|2                    |Jackpot                               |Movie  |\n",
            "|2                    |Killers                               |Movie  |\n",
            "|2                    |Battle                                |Movie  |\n",
            "|3                    |Knock Knock                           |Movie  |\n",
            "|3                    |Death House                           |Movie  |\n",
            "|3                    |Detention                             |TV Show|\n",
            "|3                    |The Last Resort                       |Movie  |\n",
            "|3                    |Haunted                               |TV Show|\n",
            "|3                    |A Scandall                            |Movie  |\n",
            "|3                    |Drive                                 |Movie  |\n",
            "|3                    |Norm of the North: Keys to the Kingdom|Movie  |\n",
            "|3                    |The Forest                            |Movie  |\n",
            "|3                    |Mara                                  |Movie  |\n",
            "|3                    |Occupied                              |TV Show|\n",
            "|4                    |Deuces                                |Movie  |\n",
            "|4                    |Champions                             |TV Show|\n",
            "|4                    |Solo                                  |Movie  |\n",
            "|4                    |Paranoid                              |TV Show|\n",
            "|4                    |No Tomorrow                           |TV Show|\n",
            "+---------------------+--------------------------------------+-------+\n",
            "only showing top 20 rows\n",
            "\n"
          ]
        }
      ]
    },
    {
      "cell_type": "code",
      "source": [
        "df_ratings.show()\n",
        "\n",
        "df_text = df_ratings.select('imdb_title_id', 'weighted_average_vote')\n",
        "df_text.show()"
      ],
      "metadata": {
        "colab": {
          "base_uri": "https://localhost:8080/"
        },
        "id": "CXLuyIvkSba8",
        "outputId": "e35fc6db-0614-4bbb-81e9-d270879c58cc"
      },
      "execution_count": 67,
      "outputs": [
        {
          "output_type": "stream",
          "name": "stdout",
          "text": [
            "+-------------+---------------------+-----------+---------+-----------+-------+------+------+------+------+\n",
            "|imdb_title_id|weighted_average_vote|total_votes|mean_vote|median_vote|vote_10|vote_9|vote_8|vote_7|vote_6|\n",
            "+-------------+---------------------+-----------+---------+-----------+-------+------+------+------+------+\n",
            "|    tt0000009|                  5.9|        154|      5.9|          6|     12|     4|    10|    43|    28|\n",
            "|    tt0000574|                  6.1|        589|      6.3|          6|     57|    18|    58|   137|   139|\n",
            "|    tt0001892|                  5.8|        188|      6.0|          6|      6|     6|    17|    44|    52|\n",
            "|    tt0002101|                  5.2|        446|      5.3|          5|     15|     8|    16|    62|    98|\n",
            "|    tt0002130|                    7|       2237|      6.9|          7|    210|   225|   436|   641|   344|\n",
            "|    tt0002199|                  5.7|        484|      5.8|          6|     33|    15|    48|    80|   123|\n",
            "|    tt0002423|                  6.8|        753|      6.8|          7|     80|    65|   105|   209|   142|\n",
            "|    tt0002445|                  6.2|        273|      6.2|          6|     15|     8|    30|    74|    66|\n",
            "|    tt0002452|                  6.7|        198|      7.1|          7|     53|     7|    23|    35|    30|\n",
            "|    tt0002461|                  5.5|        225|      5.4|          6|      9|     6|    22|    34|    53|\n",
            "|    tt0002646|                  6.6|        331|      6.6|          7|     17|    23|    63|    99|    66|\n",
            "|    tt0002844|                    7|       1944|      6.6|          7|    195|   145|   335|   546|   363|\n",
            "|    tt0003014|                  7.1|        948|      7.2|          7|    128|   100|   161|   275|   156|\n",
            "|    tt0003037|                    7|       1349|      6.5|          7|    122|   118|   234|   356|   246|\n",
            "|    tt0003102|                  6.2|        100|      6.3|          6|      7|     5|    10|    23|    31|\n",
            "|    tt0003131|                  6.5|        124|      6.7|          7|      9|    14|    15|    36|    24|\n",
            "|    tt0003165|                    7|       1050|      6.6|          7|    105|    99|   164|   282|   184|\n",
            "|    tt0003167|                  5.8|        187|      6.1|          6|     15|     6|    16|    32|    54|\n",
            "|    tt0003419|                  6.5|       1768|      6.5|          7|    137|    95|   233|   487|   407|\n",
            "|    tt0003471|                    6|        552|      6.0|          6|     26|    15|    71|   100|   158|\n",
            "+-------------+---------------------+-----------+---------+-----------+-------+------+------+------+------+\n",
            "only showing top 20 rows\n",
            "\n",
            "+-------------+---------------------+\n",
            "|imdb_title_id|weighted_average_vote|\n",
            "+-------------+---------------------+\n",
            "|    tt0000009|                  5.9|\n",
            "|    tt0000574|                  6.1|\n",
            "|    tt0001892|                  5.8|\n",
            "|    tt0002101|                  5.2|\n",
            "|    tt0002130|                    7|\n",
            "|    tt0002199|                  5.7|\n",
            "|    tt0002423|                  6.8|\n",
            "|    tt0002445|                  6.2|\n",
            "|    tt0002452|                  6.7|\n",
            "|    tt0002461|                  5.5|\n",
            "|    tt0002646|                  6.6|\n",
            "|    tt0002844|                    7|\n",
            "|    tt0003014|                  7.1|\n",
            "|    tt0003037|                    7|\n",
            "|    tt0003102|                  6.2|\n",
            "|    tt0003131|                  6.5|\n",
            "|    tt0003165|                    7|\n",
            "|    tt0003167|                  5.8|\n",
            "|    tt0003419|                  6.5|\n",
            "|    tt0003471|                    6|\n",
            "+-------------+---------------------+\n",
            "only showing top 20 rows\n",
            "\n"
          ]
        }
      ]
    },
    {
      "cell_type": "code",
      "source": [
        "df_text.dtypes"
      ],
      "metadata": {
        "colab": {
          "base_uri": "https://localhost:8080/"
        },
        "id": "TIaw4WiOctw0",
        "outputId": "01f4bd0a-6ea3-4f60-fa28-1a9062fa297a"
      },
      "execution_count": 72,
      "outputs": [
        {
          "output_type": "execute_result",
          "data": {
            "text/plain": [
              "[('imdb_title_id', 'string'), ('weighted_average_vote', 'string')]"
            ]
          },
          "metadata": {},
          "execution_count": 72
        }
      ]
    },
    {
      "cell_type": "code",
      "source": [
        "!pip install vaderSentiment\n",
        "from vaderSentiment.vaderSentiment import SentimentIntensityAnalyzer"
      ],
      "metadata": {
        "colab": {
          "base_uri": "https://localhost:8080/"
        },
        "id": "_YCFRH-YatYB",
        "outputId": "6c8bb7f6-ad47-4cf7-8ccd-b906859013dd"
      },
      "execution_count": 40,
      "outputs": [
        {
          "output_type": "stream",
          "name": "stdout",
          "text": [
            "Requirement already satisfied: vaderSentiment in /usr/local/lib/python3.7/dist-packages (3.3.2)\n",
            "Requirement already satisfied: requests in /usr/local/lib/python3.7/dist-packages (from vaderSentiment) (2.23.0)\n",
            "Requirement already satisfied: idna<3,>=2.5 in /usr/local/lib/python3.7/dist-packages (from requests->vaderSentiment) (2.10)\n",
            "Requirement already satisfied: certifi>=2017.4.17 in /usr/local/lib/python3.7/dist-packages (from requests->vaderSentiment) (2021.10.8)\n",
            "Requirement already satisfied: urllib3!=1.25.0,!=1.25.1,<1.26,>=1.21.1 in /usr/local/lib/python3.7/dist-packages (from requests->vaderSentiment) (1.24.3)\n",
            "Requirement already satisfied: chardet<4,>=3.0.2 in /usr/local/lib/python3.7/dist-packages (from requests->vaderSentiment) (3.0.4)\n"
          ]
        }
      ]
    },
    {
      "cell_type": "code",
      "source": [
        "from pyspark.sql.functions import udf\n",
        "from pyspark.sql.types import FloatType\n",
        "analyser = SentimentIntensityAnalyzer()\n",
        "vader_udf = udf(lambda text: analyser.polarity_scores(text).get('pos'), FloatType())"
      ],
      "metadata": {
        "id": "YOmKyzfyavcw"
      },
      "execution_count": 81,
      "outputs": []
    },
    {
      "cell_type": "code",
      "source": [
        "# changed weight avg vote to String in the schema (in the chapt10 sentiment notes - string appeared to work, float type does not)\n",
        "# however, the positivity is still showing as 0 not sure why - also tried changing the Float in the previous code section/import the StringType - no luck\n",
        "\n",
        "df_sentiment = df_text.withColumn(\"positivity\", vader_udf(\"weighted_average_vote\"))\n",
        "df_sentiment.show()"
      ],
      "metadata": {
        "colab": {
          "base_uri": "https://localhost:8080/"
        },
        "id": "918Th4_fayOo",
        "outputId": "6634419e-eb40-4ab4-b64e-afaca0409559"
      },
      "execution_count": 82,
      "outputs": [
        {
          "output_type": "stream",
          "name": "stdout",
          "text": [
            "+-------------+---------------------+----------+\n",
            "|imdb_title_id|weighted_average_vote|positivity|\n",
            "+-------------+---------------------+----------+\n",
            "|    tt0000009|                  5.9|       0.0|\n",
            "|    tt0000574|                  6.1|       0.0|\n",
            "|    tt0001892|                  5.8|       0.0|\n",
            "|    tt0002101|                  5.2|       0.0|\n",
            "|    tt0002130|                    7|       0.0|\n",
            "|    tt0002199|                  5.7|       0.0|\n",
            "|    tt0002423|                  6.8|       0.0|\n",
            "|    tt0002445|                  6.2|       0.0|\n",
            "|    tt0002452|                  6.7|       0.0|\n",
            "|    tt0002461|                  5.5|       0.0|\n",
            "|    tt0002646|                  6.6|       0.0|\n",
            "|    tt0002844|                    7|       0.0|\n",
            "|    tt0003014|                  7.1|       0.0|\n",
            "|    tt0003037|                    7|       0.0|\n",
            "|    tt0003102|                  6.2|       0.0|\n",
            "|    tt0003131|                  6.5|       0.0|\n",
            "|    tt0003165|                    7|       0.0|\n",
            "|    tt0003167|                  5.8|       0.0|\n",
            "|    tt0003419|                  6.5|       0.0|\n",
            "|    tt0003471|                    6|       0.0|\n",
            "+-------------+---------------------+----------+\n",
            "only showing top 20 rows\n",
            "\n"
          ]
        }
      ]
    },
    {
      "cell_type": "code",
      "source": [
        "df_ratings.show()\n",
        "\n",
        "df_text_2 = df_ratings.select('imdb_title_id', 'total_votes')\n",
        "df_text_2.show()\n",
        "\n",
        "df_text_2.dtypes"
      ],
      "metadata": {
        "colab": {
          "base_uri": "https://localhost:8080/"
        },
        "id": "9C7iDBmUfGVs",
        "outputId": "562f28e7-c91a-40f6-e477-395425e3a9c2"
      },
      "execution_count": 73,
      "outputs": [
        {
          "output_type": "stream",
          "name": "stdout",
          "text": [
            "+-------------+---------------------+-----------+---------+-----------+-------+------+------+------+------+\n",
            "|imdb_title_id|weighted_average_vote|total_votes|mean_vote|median_vote|vote_10|vote_9|vote_8|vote_7|vote_6|\n",
            "+-------------+---------------------+-----------+---------+-----------+-------+------+------+------+------+\n",
            "|    tt0000009|                  5.9|        154|      5.9|          6|     12|     4|    10|    43|    28|\n",
            "|    tt0000574|                  6.1|        589|      6.3|          6|     57|    18|    58|   137|   139|\n",
            "|    tt0001892|                  5.8|        188|      6.0|          6|      6|     6|    17|    44|    52|\n",
            "|    tt0002101|                  5.2|        446|      5.3|          5|     15|     8|    16|    62|    98|\n",
            "|    tt0002130|                    7|       2237|      6.9|          7|    210|   225|   436|   641|   344|\n",
            "|    tt0002199|                  5.7|        484|      5.8|          6|     33|    15|    48|    80|   123|\n",
            "|    tt0002423|                  6.8|        753|      6.8|          7|     80|    65|   105|   209|   142|\n",
            "|    tt0002445|                  6.2|        273|      6.2|          6|     15|     8|    30|    74|    66|\n",
            "|    tt0002452|                  6.7|        198|      7.1|          7|     53|     7|    23|    35|    30|\n",
            "|    tt0002461|                  5.5|        225|      5.4|          6|      9|     6|    22|    34|    53|\n",
            "|    tt0002646|                  6.6|        331|      6.6|          7|     17|    23|    63|    99|    66|\n",
            "|    tt0002844|                    7|       1944|      6.6|          7|    195|   145|   335|   546|   363|\n",
            "|    tt0003014|                  7.1|        948|      7.2|          7|    128|   100|   161|   275|   156|\n",
            "|    tt0003037|                    7|       1349|      6.5|          7|    122|   118|   234|   356|   246|\n",
            "|    tt0003102|                  6.2|        100|      6.3|          6|      7|     5|    10|    23|    31|\n",
            "|    tt0003131|                  6.5|        124|      6.7|          7|      9|    14|    15|    36|    24|\n",
            "|    tt0003165|                    7|       1050|      6.6|          7|    105|    99|   164|   282|   184|\n",
            "|    tt0003167|                  5.8|        187|      6.1|          6|     15|     6|    16|    32|    54|\n",
            "|    tt0003419|                  6.5|       1768|      6.5|          7|    137|    95|   233|   487|   407|\n",
            "|    tt0003471|                    6|        552|      6.0|          6|     26|    15|    71|   100|   158|\n",
            "+-------------+---------------------+-----------+---------+-----------+-------+------+------+------+------+\n",
            "only showing top 20 rows\n",
            "\n",
            "+-------------+-----------+\n",
            "|imdb_title_id|total_votes|\n",
            "+-------------+-----------+\n",
            "|    tt0000009|        154|\n",
            "|    tt0000574|        589|\n",
            "|    tt0001892|        188|\n",
            "|    tt0002101|        446|\n",
            "|    tt0002130|       2237|\n",
            "|    tt0002199|        484|\n",
            "|    tt0002423|        753|\n",
            "|    tt0002445|        273|\n",
            "|    tt0002452|        198|\n",
            "|    tt0002461|        225|\n",
            "|    tt0002646|        331|\n",
            "|    tt0002844|       1944|\n",
            "|    tt0003014|        948|\n",
            "|    tt0003037|       1349|\n",
            "|    tt0003102|        100|\n",
            "|    tt0003131|        124|\n",
            "|    tt0003165|       1050|\n",
            "|    tt0003167|        187|\n",
            "|    tt0003419|       1768|\n",
            "|    tt0003471|        552|\n",
            "+-------------+-----------+\n",
            "only showing top 20 rows\n",
            "\n"
          ]
        },
        {
          "output_type": "execute_result",
          "data": {
            "text/plain": [
              "[('imdb_title_id', 'string'), ('total_votes', 'int')]"
            ]
          },
          "metadata": {},
          "execution_count": 73
        }
      ]
    },
    {
      "cell_type": "code",
      "source": [
        "# also tried with total votes to test it out (switched total_votes schema to string as well) - did not work \n",
        "\n",
        "df_sentiment = df_text_2.withColumn(\"positivity\", vader_udf(\"total_votes\"))\n",
        "df_sentiment.show()"
      ],
      "metadata": {
        "colab": {
          "base_uri": "https://localhost:8080/"
        },
        "id": "JY119oFJfjIu",
        "outputId": "3d62f21b-7d14-47a8-9fba-71ffc2d682a1"
      },
      "execution_count": 70,
      "outputs": [
        {
          "output_type": "stream",
          "name": "stdout",
          "text": [
            "+-------------+-----------+----------+\n",
            "|imdb_title_id|total_votes|positivity|\n",
            "+-------------+-----------+----------+\n",
            "|    tt0000009|        154|       0.0|\n",
            "|    tt0000574|        589|       0.0|\n",
            "|    tt0001892|        188|       0.0|\n",
            "|    tt0002101|        446|       0.0|\n",
            "|    tt0002130|       2237|       0.0|\n",
            "|    tt0002199|        484|       0.0|\n",
            "|    tt0002423|        753|       0.0|\n",
            "|    tt0002445|        273|       0.0|\n",
            "|    tt0002452|        198|       0.0|\n",
            "|    tt0002461|        225|       0.0|\n",
            "|    tt0002646|        331|       0.0|\n",
            "|    tt0002844|       1944|       0.0|\n",
            "|    tt0003014|        948|       0.0|\n",
            "|    tt0003037|       1349|       0.0|\n",
            "|    tt0003102|        100|       0.0|\n",
            "|    tt0003131|        124|       0.0|\n",
            "|    tt0003165|       1050|       0.0|\n",
            "|    tt0003167|        187|       0.0|\n",
            "|    tt0003419|       1768|       0.0|\n",
            "|    tt0003471|        552|       0.0|\n",
            "+-------------+-----------+----------+\n",
            "only showing top 20 rows\n",
            "\n"
          ]
        }
      ]
    },
    {
      "cell_type": "code",
      "source": [
        "vader_neg_udf = udf(lambda text: analyser.polarity_scores(text).get('neg'), FloatType())"
      ],
      "metadata": {
        "id": "xzsv5b73gH1y"
      },
      "execution_count": 74,
      "outputs": []
    },
    {
      "cell_type": "code",
      "source": [
        "# testing to see if maybe negativity would work - did not\n",
        "# I imagine it has something to do with the data - but can't figure out what exactly \n",
        "\n",
        "df_sentiment = df_text.withColumn(\"negativity\", vader_neg_udf(\"weighted_average_vote\"))\n",
        "df_sentiment.show(truncate = False)"
      ],
      "metadata": {
        "colab": {
          "base_uri": "https://localhost:8080/"
        },
        "id": "kpPwAYIffyxg",
        "outputId": "2d6ec97e-3e6f-42fe-b860-1c23ef70cff5"
      },
      "execution_count": 78,
      "outputs": [
        {
          "output_type": "stream",
          "name": "stdout",
          "text": [
            "+-------------+---------------------+----------+\n",
            "|imdb_title_id|weighted_average_vote|negativity|\n",
            "+-------------+---------------------+----------+\n",
            "|tt0000009    |5.9                  |0.0       |\n",
            "|tt0000574    |6.1                  |0.0       |\n",
            "|tt0001892    |5.8                  |0.0       |\n",
            "|tt0002101    |5.2                  |0.0       |\n",
            "|tt0002130    |7                    |0.0       |\n",
            "|tt0002199    |5.7                  |0.0       |\n",
            "|tt0002423    |6.8                  |0.0       |\n",
            "|tt0002445    |6.2                  |0.0       |\n",
            "|tt0002452    |6.7                  |0.0       |\n",
            "|tt0002461    |5.5                  |0.0       |\n",
            "|tt0002646    |6.6                  |0.0       |\n",
            "|tt0002844    |7                    |0.0       |\n",
            "|tt0003014    |7.1                  |0.0       |\n",
            "|tt0003037    |7                    |0.0       |\n",
            "|tt0003102    |6.2                  |0.0       |\n",
            "|tt0003131    |6.5                  |0.0       |\n",
            "|tt0003165    |7                    |0.0       |\n",
            "|tt0003167    |5.8                  |0.0       |\n",
            "|tt0003419    |6.5                  |0.0       |\n",
            "|tt0003471    |6                    |0.0       |\n",
            "+-------------+---------------------+----------+\n",
            "only showing top 20 rows\n",
            "\n"
          ]
        }
      ]
    },
    {
      "cell_type": "code",
      "source": [
        ""
      ],
      "metadata": {
        "id": "82YjPM38hNPq"
      },
      "execution_count": null,
      "outputs": []
    }
  ]
}